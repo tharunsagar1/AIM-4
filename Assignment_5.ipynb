{
  "nbformat": 4,
  "nbformat_minor": 0,
  "metadata": {
    "colab": {
      "provenance": [],
      "authorship_tag": "ABX9TyMyas9K+m1D7bGyjqrA/wq2",
      "include_colab_link": true
    },
    "kernelspec": {
      "name": "python3",
      "display_name": "Python 3"
    },
    "language_info": {
      "name": "python"
    }
  },
  "cells": [
    {
      "cell_type": "markdown",
      "metadata": {
        "id": "view-in-github",
        "colab_type": "text"
      },
      "source": [
        "<a href=\"https://colab.research.google.com/github/tharunsagar1/AIML-B4/blob/main/Assignment_5.ipynb\" target=\"_parent\"><img src=\"https://colab.research.google.com/assets/colab-badge.svg\" alt=\"Open In Colab\"/></a>"
      ]
    },
    {
      "cell_type": "code",
      "execution_count": null,
      "metadata": {
        "id": "fmEVNIL8UruA"
      },
      "outputs": [],
      "source": [
        "#import nbconvert #recode the dataset\n",
        "import pandas as pd\n",
        "import numpy as np\n",
        "import matplotlib.pyplot as plt\n",
        "import seaborn as sns\n",
        "%matplotlib inline\n",
        "\n",
        "train = pd.read_csv('titanic_train.csv') # Training set is already available\n",
        "train.head()"
      ]
    },
    {
      "cell_type": "code",
      "source": [
        "train.info(verbose=True)"
      ],
      "metadata": {
        "id": "fsBZ_vMvU3b1"
      },
      "execution_count": null,
      "outputs": []
    },
    {
      "cell_type": "code",
      "source": [
        "d=train.describe()\n",
        "d"
      ],
      "metadata": {
        "id": "eVojfjJ8U6lC"
      },
      "execution_count": null,
      "outputs": []
    },
    {
      "cell_type": "code",
      "source": [
        "dT=d.T\n",
        "dT.plot.bar(y='count')\n",
        "plt.title(\"Bar plot of the count of numeric features\",fontsize=17)"
      ],
      "metadata": {
        "id": "fkqmkpU_U894"
      },
      "execution_count": null,
      "outputs": []
    },
    {
      "cell_type": "code",
      "source": [
        "sns.set_style('whitegrid')\n",
        "sns.countplot(x='Survived',data=train,palette='RdBu_r')\n",
        "sns.pairplot(train)"
      ],
      "metadata": {
        "id": "svkA3qKWU_dR"
      },
      "execution_count": null,
      "outputs": []
    },
    {
      "cell_type": "code",
      "source": [
        "sns.set_style('whitegrid')\n",
        "sns.countplot(x='Survived',hue='Pclass',data=train,palette='rainbow')"
      ],
      "metadata": {
        "id": "tVXASSMiVBjg"
      },
      "execution_count": null,
      "outputs": []
    },
    {
      "cell_type": "code",
      "source": [
        "f_class_survived=train.groupby('Pclass')['Survived'].mean()\n",
        "f_class_survived = pd.DataFrame(f_class_survived)\n",
        "f_class_survived\n",
        "f_class_survived.plot.bar(y='Survived')\n",
        "sns.countplot(x='Survived',data=f_class_survived,palette='rainbow')\n",
        "plt.title(\"Fraction of passengers survived by class\",fontsize=17)"
      ],
      "metadata": {
        "id": "rgiH-AD6VE-7"
      },
      "execution_count": null,
      "outputs": []
    },
    {
      "cell_type": "code",
      "source": [
        "sns.set_style('whitegrid')\n",
        "sns.countplot(x='Survived',hue='SibSp',data=train,palette='rainbow')"
      ],
      "metadata": {
        "id": "oZ8WxdBfVHVC"
      },
      "execution_count": null,
      "outputs": []
    },
    {
      "cell_type": "code",
      "source": [
        "plt.xlabel(\"Age of the passengers\",fontsize=18)\n",
        "plt.ylabel(\"Count\",fontsize=18)\n",
        "plt.title(\"Age histogram of the passengers\",fontsize=22)\n",
        "#train['Age'].hist(bins=30,color='darkred',alpha=0.7,figsize=(10,6))\n",
        "train['Age'].hist()"
      ],
      "metadata": {
        "id": "94ldAGMSVJku"
      },
      "execution_count": null,
      "outputs": []
    },
    {
      "cell_type": "code",
      "source": [
        "plt.figure(figsize=(12, 10))\n",
        "plt.xlabel(\"Passenger Class\",fontsize=18)\n",
        "plt.ylabel(\"Age\",fontsize=18)\n",
        "sns.boxplot(x='Pclass',y='Age',data=train,palette='winter')"
      ],
      "metadata": {
        "id": "MT0vuO1HVLfi"
      },
      "execution_count": null,
      "outputs": []
    },
    {
      "cell_type": "code",
      "source": [
        "f_class_Age=train.groupby('Pclass')['Age'].mean()\n",
        "f_class_Age = pd.DataFrame(f_class_Age)\n",
        "\n",
        "f_class_Age.plot.bar(y='Age')\n",
        "plt.title(\"Average age of passengers by class\",fontsize=17)\n",
        "plt.ylabel(\"Age (years)\", fontsize=17)\n",
        "plt.xlabel(\"Passenger class\", fontsize=17)"
      ],
      "metadata": {
        "id": "KHWtN24xVNdy"
      },
      "execution_count": null,
      "outputs": []
    },
    {
      "cell_type": "code",
      "source": [
        "a=list(f_class_Age['Age'])\n",
        "\n",
        "def impute_age(cols):\n",
        "    Age = cols[0]\n",
        "    Pclass = cols[1]\n",
        "\n",
        "    if pd.isnull(Age):\n",
        "\n",
        "        if Pclass == 1:\n",
        "            return a[0]\n",
        "\n",
        "        elif Pclass == 2:\n",
        "            return a[1]\n",
        "\n",
        "        else:\n",
        "            return a[2]\n",
        "\n",
        "    else:\n",
        "        return Age"
      ],
      "metadata": {
        "id": "nAloMtkdVPuy"
      },
      "execution_count": null,
      "outputs": []
    },
    {
      "cell_type": "code",
      "source": [
        "train['Age'] = train[['Age','Pclass']].apply(impute_age,axis=1)\n",
        "d=train.describe()\n",
        "\n",
        "dT=d.T\n",
        "dT.plot.bar(y='count')\n",
        "plt.title(\"Bar plot of the count of numeric features\",fontsize=17)"
      ],
      "metadata": {
        "id": "fnHXQvufVUQZ"
      },
      "execution_count": null,
      "outputs": []
    },
    {
      "cell_type": "code",
      "source": [
        "train.drop('Cabin',axis=1,inplace=True)\n",
        "train.dropna(inplace=True)\n",
        "train.head()"
      ],
      "metadata": {
        "id": "K9brMXxzVWos"
      },
      "execution_count": null,
      "outputs": []
    },
    {
      "cell_type": "code",
      "source": [
        "train.drop(['Cabin','PassengerId','Name','Ticket'],axis=1,\n",
        "           inplace=True)\n",
        "train.dropna(inplace=True)\n",
        "train.head()"
      ],
      "metadata": {
        "id": "CD9CoHGCVYcJ"
      },
      "execution_count": null,
      "outputs": []
    },
    {
      "cell_type": "code",
      "source": [
        "sex = pd.get_dummies(train['Sex'],drop_first=True)\n",
        "embark = pd.get_dummies(train['Embarked'],drop_first=True)"
      ],
      "metadata": {
        "id": "EdKelkf0VaSB"
      },
      "execution_count": null,
      "outputs": []
    },
    {
      "cell_type": "code",
      "source": [
        "train.drop(['Sex','Embarked'],axis=1,inplace=True)\n",
        "train = pd.concat([train,sex,embark],axis=1)\n",
        "train.head()"
      ],
      "metadata": {
        "id": "xScCTp8MVcZR"
      },
      "execution_count": null,
      "outputs": []
    },
    {
      "cell_type": "code",
      "source": [
        "from sklearn.model_selection import train_test_split\n",
        "\n",
        "X_train, X_test, y_train, y_test = train_test_split(\n",
        "    train.drop('Survived',axis=1),train['Survived'],\n",
        "    test_size=0.30,random_state=111)"
      ],
      "metadata": {
        "id": "_P0fi0h0VfBO"
      },
      "execution_count": null,
      "outputs": []
    },
    {
      "cell_type": "code",
      "source": [
        "from sklearn.linear_model import LogisticRegression\n",
        "from sklearn.metrics import classification_report\n",
        "nsimu=201\n",
        "penalty=[0]*nsimu\n",
        "logmodel=[0]*nsimu\n",
        "predictions =[0]*nsimu\n",
        "class_report = [0]*nsimu\n",
        "f1=[0]*nsimu\n",
        "\n",
        "for i in range(1,nsimu):\n",
        "        logmodel[i] =(LogisticRegression(C=i/1000,tol=1e-4, max_iter=int(1e6),\n",
        "                                         n_jobs=4))\n",
        "        logmodel[i].fit(X_train,y_train)\n",
        "        predictions[i] = logmodel[i].predict(X_test)\n",
        "        class_report[i] = classification_report(y_test,predictions[i])\n",
        "        l=class_report[i].split()\n",
        "        f1[i] = l[len(l)-2]\n",
        "        penalty[i]=1000/i\n",
        "\n",
        "plt.scatter(penalty[1:len(penalty)-2],f1[1:len(f1)-2])\n",
        "plt.title(\"F1-score vs. regularization parameter\",fontsize=20)\n",
        "plt.xlabel(\"Penalty parameter\",fontsize=17)\n",
        "plt.ylabel(\"F1-score on test data\",fontsize=17)\n",
        "plt.show()"
      ],
      "metadata": {
        "id": "ajyVkdxFVhpp"
      },
      "execution_count": null,
      "outputs": []
    },
    {
      "cell_type": "code",
      "source": [
        "nsimu=101\n",
        "class_report = [0]*nsimu\n",
        "f1=[0]*nsimu\n",
        "test_fraction =[0]*nsimu\n",
        "for i in range(1,nsimu):\n",
        "        X_train, X_test, y_train, y_test = train_test_split(train.drop('Survived',axis=1),\n",
        "                                                    train['Survived'], test_size=0.1+(i-1)*0.007,\n",
        "                                                    random_state=111)\n",
        "        logmodel =(LogisticRegression(C=1,tol=1e-4, max_iter=1000,n_jobs=4))\n",
        "        logmodel.fit(X_train,y_train)\n",
        "        predictions = logmodel.predict(X_test)\n",
        "        class_report[i] = classification_report(y_test,predictions)\n",
        "        l=class_report[i].split()\n",
        "        f1[i] = l[len(l)-2]\n",
        "        test_fraction[i]=0.1+(i-1)*0.007\n",
        "\n",
        "plt.plot(test_fraction[1:len(test_fraction)-2],f1[1:len(f1)-2])\n",
        "plt.title(\"F1-score vs. test set size (fraction)\",fontsize=20)\n",
        "plt.xlabel(\"Test set size (fraction)\",fontsize=17)\n",
        "plt.ylabel(\"F1-score on test data\",fontsize=17)\n",
        "plt.show()"
      ],
      "metadata": {
        "id": "AG0IyajTVj7C"
      },
      "execution_count": null,
      "outputs": []
    },
    {
      "cell_type": "code",
      "source": [
        "nsimu=101\n",
        "class_report = [0]*nsimu\n",
        "f1=[0]*nsimu\n",
        "random_init =[0]*nsimu\n",
        "for i in range(1,nsimu):\n",
        "        X_train, X_test, y_train, y_test = train_test_split(train.drop('Survived',axis=1),\n",
        "                                                    train['Survived'], test_size=0.3,\n",
        "                                                    random_state=i+100)\n",
        "        logmodel =(LogisticRegression(C=1,tol=1e-5, max_iter=1000,n_jobs=4))\n",
        "        logmodel.fit(X_train,y_train)\n",
        "        predictions = logmodel.predict(X_test)\n",
        "        class_report[i] = classification_report(y_test,predictions)\n",
        "        l=class_report[i].split()\n",
        "        f1[i] = l[len(l)-2]\n",
        "        random_init[i]=i+100\n",
        "\n",
        "plt.plot(random_init[1:len(random_init)-2],f1[1:len(f1)-2])\n",
        "plt.title(\"F1-score vs. random initialization seed\",fontsize=20)\n",
        "plt.xlabel(\"Random initialization seed\",fontsize=17)\n",
        "plt.ylabel(\"F1-score on test data\",fontsize=17)\n",
        "plt.show()"
      ],
      "metadata": {
        "id": "DsKB1oRpVmBo"
      },
      "execution_count": null,
      "outputs": []
    }
  ]
}